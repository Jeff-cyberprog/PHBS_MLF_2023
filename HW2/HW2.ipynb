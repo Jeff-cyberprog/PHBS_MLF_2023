{
 "cells": [
  {
   "cell_type": "code",
   "execution_count": 1,
   "id": "8840311f",
   "metadata": {},
   "outputs": [],
   "source": [
    "#import the needed packages\n",
    "import pandas as pd\n",
    "import numpy as np\n",
    "\n",
    "import matplotlib.pyplot as plt\n",
    "\n",
    "from sklearn.preprocessing import StandardScaler\n",
    "from sklearn.decomposition import PCA\n",
    "\n",
    "from sklearn.metrics import accuracy_score\n",
    "\n",
    "from sklearn.linear_model import LogisticRegression\n",
    "from sklearn.svm import SVC\n",
    "from sklearn.tree import DecisionTreeClassifier\n",
    "\n",
    "from sklearn.pipeline import make_pipeline\n",
    "from sklearn.model_selection import GridSearchCV"
   ]
  },
  {
   "cell_type": "code",
   "execution_count": 2,
   "id": "7ee5132c",
   "metadata": {},
   "outputs": [
    {
     "data": {
      "text/html": [
       "<div>\n",
       "<style scoped>\n",
       "    .dataframe tbody tr th:only-of-type {\n",
       "        vertical-align: middle;\n",
       "    }\n",
       "\n",
       "    .dataframe tbody tr th {\n",
       "        vertical-align: top;\n",
       "    }\n",
       "\n",
       "    .dataframe thead th {\n",
       "        text-align: right;\n",
       "    }\n",
       "</style>\n",
       "<table border=\"1\" class=\"dataframe\">\n",
       "  <thead>\n",
       "    <tr style=\"text-align: right;\">\n",
       "      <th></th>\n",
       "      <th>Unnamed: 0</th>\n",
       "      <th>SeriousDlqin2yrs</th>\n",
       "      <th>RevolvingUtilizationOfUnsecuredLines</th>\n",
       "      <th>age</th>\n",
       "      <th>NumberOfTime30-59DaysPastDueNotWorse</th>\n",
       "      <th>DebtRatio</th>\n",
       "      <th>MonthlyIncome</th>\n",
       "      <th>NumberOfOpenCreditLinesAndLoans</th>\n",
       "      <th>NumberOfTimes90DaysLate</th>\n",
       "      <th>NumberRealEstateLoansOrLines</th>\n",
       "      <th>NumberOfTime60-89DaysPastDueNotWorse</th>\n",
       "      <th>NumberOfDependents</th>\n",
       "    </tr>\n",
       "  </thead>\n",
       "  <tbody>\n",
       "    <tr>\n",
       "      <th>0</th>\n",
       "      <td>1</td>\n",
       "      <td>1</td>\n",
       "      <td>0.766127</td>\n",
       "      <td>45</td>\n",
       "      <td>2</td>\n",
       "      <td>0.802982</td>\n",
       "      <td>9120.0</td>\n",
       "      <td>13</td>\n",
       "      <td>0</td>\n",
       "      <td>6</td>\n",
       "      <td>0</td>\n",
       "      <td>2.0</td>\n",
       "    </tr>\n",
       "    <tr>\n",
       "      <th>1</th>\n",
       "      <td>2</td>\n",
       "      <td>0</td>\n",
       "      <td>0.957151</td>\n",
       "      <td>40</td>\n",
       "      <td>0</td>\n",
       "      <td>0.121876</td>\n",
       "      <td>2600.0</td>\n",
       "      <td>4</td>\n",
       "      <td>0</td>\n",
       "      <td>0</td>\n",
       "      <td>0</td>\n",
       "      <td>1.0</td>\n",
       "    </tr>\n",
       "    <tr>\n",
       "      <th>2</th>\n",
       "      <td>3</td>\n",
       "      <td>0</td>\n",
       "      <td>0.658180</td>\n",
       "      <td>38</td>\n",
       "      <td>1</td>\n",
       "      <td>0.085113</td>\n",
       "      <td>3042.0</td>\n",
       "      <td>2</td>\n",
       "      <td>1</td>\n",
       "      <td>0</td>\n",
       "      <td>0</td>\n",
       "      <td>0.0</td>\n",
       "    </tr>\n",
       "    <tr>\n",
       "      <th>3</th>\n",
       "      <td>4</td>\n",
       "      <td>0</td>\n",
       "      <td>0.233810</td>\n",
       "      <td>30</td>\n",
       "      <td>0</td>\n",
       "      <td>0.036050</td>\n",
       "      <td>3300.0</td>\n",
       "      <td>5</td>\n",
       "      <td>0</td>\n",
       "      <td>0</td>\n",
       "      <td>0</td>\n",
       "      <td>0.0</td>\n",
       "    </tr>\n",
       "    <tr>\n",
       "      <th>4</th>\n",
       "      <td>5</td>\n",
       "      <td>0</td>\n",
       "      <td>0.907239</td>\n",
       "      <td>49</td>\n",
       "      <td>1</td>\n",
       "      <td>0.024926</td>\n",
       "      <td>63588.0</td>\n",
       "      <td>7</td>\n",
       "      <td>0</td>\n",
       "      <td>1</td>\n",
       "      <td>0</td>\n",
       "      <td>0.0</td>\n",
       "    </tr>\n",
       "  </tbody>\n",
       "</table>\n",
       "</div>"
      ],
      "text/plain": [
       "   Unnamed: 0  SeriousDlqin2yrs  RevolvingUtilizationOfUnsecuredLines  age  \\\n",
       "0           1                 1                              0.766127   45   \n",
       "1           2                 0                              0.957151   40   \n",
       "2           3                 0                              0.658180   38   \n",
       "3           4                 0                              0.233810   30   \n",
       "4           5                 0                              0.907239   49   \n",
       "\n",
       "   NumberOfTime30-59DaysPastDueNotWorse  DebtRatio  MonthlyIncome  \\\n",
       "0                                     2   0.802982         9120.0   \n",
       "1                                     0   0.121876         2600.0   \n",
       "2                                     1   0.085113         3042.0   \n",
       "3                                     0   0.036050         3300.0   \n",
       "4                                     1   0.024926        63588.0   \n",
       "\n",
       "   NumberOfOpenCreditLinesAndLoans  NumberOfTimes90DaysLate  \\\n",
       "0                               13                        0   \n",
       "1                                4                        0   \n",
       "2                                2                        1   \n",
       "3                                5                        0   \n",
       "4                                7                        0   \n",
       "\n",
       "   NumberRealEstateLoansOrLines  NumberOfTime60-89DaysPastDueNotWorse  \\\n",
       "0                             6                                     0   \n",
       "1                             0                                     0   \n",
       "2                             0                                     0   \n",
       "3                             0                                     0   \n",
       "4                             1                                     0   \n",
       "\n",
       "   NumberOfDependents  \n",
       "0                 2.0  \n",
       "1                 1.0  \n",
       "2                 0.0  \n",
       "3                 0.0  \n",
       "4                 0.0  "
      ]
     },
     "execution_count": 2,
     "metadata": {},
     "output_type": "execute_result"
    }
   ],
   "source": [
    "#read the training file\n",
    "file_path='D://PHBS/CEF/code/MLF/HW/GiveMeSomeCredit'\n",
    "\n",
    "train=pd.read_csv(file_path+'/cs-training.csv')\n",
    "\n",
    "train.head()"
   ]
  },
  {
   "cell_type": "code",
   "execution_count": 3,
   "id": "a52f6e78",
   "metadata": {},
   "outputs": [
    {
     "data": {
      "text/html": [
       "<div>\n",
       "<style scoped>\n",
       "    .dataframe tbody tr th:only-of-type {\n",
       "        vertical-align: middle;\n",
       "    }\n",
       "\n",
       "    .dataframe tbody tr th {\n",
       "        vertical-align: top;\n",
       "    }\n",
       "\n",
       "    .dataframe thead th {\n",
       "        text-align: right;\n",
       "    }\n",
       "</style>\n",
       "<table border=\"1\" class=\"dataframe\">\n",
       "  <thead>\n",
       "    <tr style=\"text-align: right;\">\n",
       "      <th></th>\n",
       "      <th>Unnamed: 0</th>\n",
       "      <th>SeriousDlqin2yrs</th>\n",
       "      <th>RevolvingUtilizationOfUnsecuredLines</th>\n",
       "      <th>age</th>\n",
       "      <th>NumberOfTime30-59DaysPastDueNotWorse</th>\n",
       "      <th>DebtRatio</th>\n",
       "      <th>MonthlyIncome</th>\n",
       "      <th>NumberOfOpenCreditLinesAndLoans</th>\n",
       "      <th>NumberOfTimes90DaysLate</th>\n",
       "      <th>NumberRealEstateLoansOrLines</th>\n",
       "      <th>NumberOfTime60-89DaysPastDueNotWorse</th>\n",
       "      <th>NumberOfDependents</th>\n",
       "    </tr>\n",
       "  </thead>\n",
       "  <tbody>\n",
       "    <tr>\n",
       "      <th>0</th>\n",
       "      <td>1</td>\n",
       "      <td>NaN</td>\n",
       "      <td>0.885519</td>\n",
       "      <td>43</td>\n",
       "      <td>0</td>\n",
       "      <td>0.177513</td>\n",
       "      <td>5700.0</td>\n",
       "      <td>4</td>\n",
       "      <td>0</td>\n",
       "      <td>0</td>\n",
       "      <td>0</td>\n",
       "      <td>0.0</td>\n",
       "    </tr>\n",
       "    <tr>\n",
       "      <th>1</th>\n",
       "      <td>2</td>\n",
       "      <td>NaN</td>\n",
       "      <td>0.463295</td>\n",
       "      <td>57</td>\n",
       "      <td>0</td>\n",
       "      <td>0.527237</td>\n",
       "      <td>9141.0</td>\n",
       "      <td>15</td>\n",
       "      <td>0</td>\n",
       "      <td>4</td>\n",
       "      <td>0</td>\n",
       "      <td>2.0</td>\n",
       "    </tr>\n",
       "    <tr>\n",
       "      <th>2</th>\n",
       "      <td>3</td>\n",
       "      <td>NaN</td>\n",
       "      <td>0.043275</td>\n",
       "      <td>59</td>\n",
       "      <td>0</td>\n",
       "      <td>0.687648</td>\n",
       "      <td>5083.0</td>\n",
       "      <td>12</td>\n",
       "      <td>0</td>\n",
       "      <td>1</td>\n",
       "      <td>0</td>\n",
       "      <td>2.0</td>\n",
       "    </tr>\n",
       "    <tr>\n",
       "      <th>3</th>\n",
       "      <td>4</td>\n",
       "      <td>NaN</td>\n",
       "      <td>0.280308</td>\n",
       "      <td>38</td>\n",
       "      <td>1</td>\n",
       "      <td>0.925961</td>\n",
       "      <td>3200.0</td>\n",
       "      <td>7</td>\n",
       "      <td>0</td>\n",
       "      <td>2</td>\n",
       "      <td>0</td>\n",
       "      <td>0.0</td>\n",
       "    </tr>\n",
       "    <tr>\n",
       "      <th>4</th>\n",
       "      <td>5</td>\n",
       "      <td>NaN</td>\n",
       "      <td>1.000000</td>\n",
       "      <td>27</td>\n",
       "      <td>0</td>\n",
       "      <td>0.019917</td>\n",
       "      <td>3865.0</td>\n",
       "      <td>4</td>\n",
       "      <td>0</td>\n",
       "      <td>0</td>\n",
       "      <td>0</td>\n",
       "      <td>1.0</td>\n",
       "    </tr>\n",
       "  </tbody>\n",
       "</table>\n",
       "</div>"
      ],
      "text/plain": [
       "   Unnamed: 0  SeriousDlqin2yrs  RevolvingUtilizationOfUnsecuredLines  age  \\\n",
       "0           1               NaN                              0.885519   43   \n",
       "1           2               NaN                              0.463295   57   \n",
       "2           3               NaN                              0.043275   59   \n",
       "3           4               NaN                              0.280308   38   \n",
       "4           5               NaN                              1.000000   27   \n",
       "\n",
       "   NumberOfTime30-59DaysPastDueNotWorse  DebtRatio  MonthlyIncome  \\\n",
       "0                                     0   0.177513         5700.0   \n",
       "1                                     0   0.527237         9141.0   \n",
       "2                                     0   0.687648         5083.0   \n",
       "3                                     1   0.925961         3200.0   \n",
       "4                                     0   0.019917         3865.0   \n",
       "\n",
       "   NumberOfOpenCreditLinesAndLoans  NumberOfTimes90DaysLate  \\\n",
       "0                                4                        0   \n",
       "1                               15                        0   \n",
       "2                               12                        0   \n",
       "3                                7                        0   \n",
       "4                                4                        0   \n",
       "\n",
       "   NumberRealEstateLoansOrLines  NumberOfTime60-89DaysPastDueNotWorse  \\\n",
       "0                             0                                     0   \n",
       "1                             4                                     0   \n",
       "2                             1                                     0   \n",
       "3                             2                                     0   \n",
       "4                             0                                     0   \n",
       "\n",
       "   NumberOfDependents  \n",
       "0                 0.0  \n",
       "1                 2.0  \n",
       "2                 2.0  \n",
       "3                 0.0  \n",
       "4                 1.0  "
      ]
     },
     "execution_count": 3,
     "metadata": {},
     "output_type": "execute_result"
    }
   ],
   "source": [
    "#Read the test file\n",
    "test=pd.read_csv(file_path+'/cs-test.csv')\n",
    "\n",
    "test.head()"
   ]
  },
  {
   "cell_type": "code",
   "execution_count": 4,
   "id": "74ae3a68",
   "metadata": {},
   "outputs": [
    {
     "name": "stdout",
     "output_type": "stream",
     "text": [
      "[0.08080665 0.04071874 0.01196834 ... 0.00696991 0.12199356 0.04424841]\n",
      "[0. 0. 0. ... 0. 0. 0.]\n"
     ]
    }
   ],
   "source": [
    "#Read the actual probability which is y \n",
    "y_test=pd.read_csv(file_path+'/sampleEntry.csv')\n",
    "y_test=y_test['Probability'].values\n",
    "print(y_test)\n",
    "\n",
    "#Seperate the y value into 0 and 1\n",
    "y_test[y_test<0.5]=0\n",
    "y_test[y_test>=0.5]=1\n",
    "print(y_test)"
   ]
  },
  {
   "cell_type": "code",
   "execution_count": 5,
   "id": "34704ff0",
   "metadata": {},
   "outputs": [],
   "source": [
    "#fill the null value\n",
    "X_train=train.fillna(train.mean())\n",
    "X_test=test.fillna(test.mean())\n",
    "\n",
    "#select the X labels and y labels\n",
    "X_labels=train.columns[2:]\n",
    "y_labels=train.columns[1]\n",
    "\n",
    "#get the needed data and transform them into numpy type\n",
    "X_train_values=X_train[X_labels].values\n",
    "y_train=X_train[y_labels].values\n",
    "X_test=X_test[X_labels].values\n",
    "\n",
    "#Standardlize the data\n",
    "sc=StandardScaler()\n",
    "X_train_std=sc.fit_transform(X_train_values)\n",
    "X_test_std=sc.fit_transform(X_test)"
   ]
  },
  {
   "cell_type": "code",
   "execution_count": 13,
   "id": "9b6365a9",
   "metadata": {},
   "outputs": [
    {
     "data": {
      "text/plain": [
       "array([0.29948872, 0.1533157 , 0.12254696, 0.10092078, 0.10010863,\n",
       "       0.09344974, 0.073465  , 0.05430268, 0.00172094, 0.00068085])"
      ]
     },
     "execution_count": 13,
     "metadata": {},
     "output_type": "execute_result"
    }
   ],
   "source": [
    "#using the PCA method to rank the explained ratio for variables\n",
    "pca=PCA()\n",
    "X_train_pca=pca.fit_transform(X_train_std)\n",
    "pca.explained_variance_ratio_"
   ]
  },
  {
   "cell_type": "code",
   "execution_count": 14,
   "id": "9d395109",
   "metadata": {},
   "outputs": [
    {
     "data": {
      "image/png": "[encoded data removed]",
      "text/plain": [
       "<Figure size 640x480 with 1 Axes>"
      ]
     },
     "metadata": {},
     "output_type": "display_data"
    }
   ],
   "source": [
    "plt.bar(range(1, 11), pca.explained_variance_ratio_, alpha=0.5, align='center')\n",
    "plt.step(range(1, 11), np.cumsum(pca.explained_variance_ratio_), where='mid')\n",
    "plt.ylabel('Explained variance ratio')\n",
    "plt.xlabel('Principal components')\n",
    "\n",
    "plt.show()"
   ]
  },
  {
   "cell_type": "code",
   "execution_count": 15,
   "id": "a8568d24",
   "metadata": {},
   "outputs": [],
   "source": [
    "#choose the five variables with the highest explained ratio\n",
    "pca=PCA(n_components=5)\n",
    "X_train_pca=pca.fit_transform(X_train_std)\n",
    "X_test_pca=pca.transform(X_test_std)"
   ]
  },
  {
   "cell_type": "code",
   "execution_count": 8,
   "id": "5969db4c",
   "metadata": {},
   "outputs": [
    {
     "name": "stdout",
     "output_type": "stream",
     "text": [
      "Test accuracy is 0.984\n"
     ]
    }
   ],
   "source": [
    "#use LR to fit the train set and test the accuracy for test set\n",
    "lr=LogisticRegression(C=10,multi_class='ovr',random_state=1,solver='lbfgs')\n",
    "lr=lr.fit(X_train_pca,y_train)\n",
    "\n",
    "y_pred=lr.predict(X_test_pca)\n",
    "accuracy=accuracy_score(y_test,y_pred)\n",
    "print(\"Test accuracy is {}\".format(accuracy.round(3)))"
   ]
  },
  {
   "cell_type": "code",
   "execution_count": 9,
   "id": "7e592e64",
   "metadata": {},
   "outputs": [
    {
     "name": "stdout",
     "output_type": "stream",
     "text": [
      "Test accuracy is 0.986\n"
     ]
    }
   ],
   "source": [
    "#use SVM to fit the train set and test the accuracy for test set\n",
    "svm=SVC(kernel='rbf',random_state=1,gamma=0.1,C=10)\n",
    "svm.fit(X_train_pca,y_train)\n",
    "\n",
    "y_pred=svm.predict(X_test_pca)\n",
    "accuracy=accuracy_score(y_test,y_pred)\n",
    "print(\"Test accuracy is {}\".format(accuracy.round(3)))"
   ]
  },
  {
   "cell_type": "code",
   "execution_count": 17,
   "id": "7b3c429e",
   "metadata": {},
   "outputs": [
    {
     "name": "stdout",
     "output_type": "stream",
     "text": [
      "Test accuracy is 0.989\n"
     ]
    }
   ],
   "source": [
    "#use decision tree to fit the train set and test the accuracy for test set\n",
    "tree_model = DecisionTreeClassifier(max_depth=5,random_state=1)\n",
    "tree_model.fit(X_train_pca, y_train)\n",
    "\n",
    "y_pred=tree_model.predict(X_test_pca)\n",
    "accuracy=accuracy_score(y_test,y_pred)\n",
    "print(\"Test accuracy is {}\".format(accuracy.round(3)))"
   ]
  },
  {
   "cell_type": "code",
   "execution_count": 18,
   "id": "b2872f73",
   "metadata": {},
   "outputs": [
    {
     "name": "stdout",
     "output_type": "stream",
     "text": [
      "Test Accuracy: 0.984\n"
     ]
    }
   ],
   "source": [
    "#Implement the LR method using pipeline\n",
    "pipe_LR=make_pipeline(StandardScaler(),\n",
    "                     PCA(n_components=5),\n",
    "                     LogisticRegression(C=10,multi_class='ovr',random_state=1,solver='lbfgs'))\n",
    "\n",
    "pipe_LR.fit(X_train_values,y_train)\n",
    "y_pred=pipe_LR.predict(X_test)\n",
    "print('Test Accuracy: %.3f' % pipe_LR.score(X_test, y_test))"
   ]
  },
  {
   "cell_type": "code",
   "execution_count": 43,
   "id": "9c150973",
   "metadata": {},
   "outputs": [
    {
     "name": "stdout",
     "output_type": "stream",
     "text": [
      "Test Accuracy: 0.987\n"
     ]
    }
   ],
   "source": [
    "#Implement the SVM method using pipeline\n",
    "pipe_svm=make_pipeline(StandardScaler(),\n",
    "                      PCA(n_components=5),\n",
    "                      SVC(kernel='rbf',random_state=1,gamma=0.1,C=10))\n",
    "\n",
    "pipe_svm.fit(X_train_values,y_train)\n",
    "y_pred=pipe_svm.predict(X_test)\n",
    "print('Test Accuracy: %.3f' % pipe_svm.score(X_test, y_test))"
   ]
  },
  {
   "cell_type": "code",
   "execution_count": 19,
   "id": "2e3aa023",
   "metadata": {},
   "outputs": [
    {
     "name": "stdout",
     "output_type": "stream",
     "text": [
      "Test Accuracy: 0.988\n"
     ]
    }
   ],
   "source": [
    "#Implement the decision tree method using pipeline\n",
    "pipe_tree=make_pipeline(StandardScaler(),\n",
    "                      PCA(n_components=5),\n",
    "                      DecisionTreeClassifier(max_depth=5,random_state=1))\n",
    "\n",
    "pipe_tree.fit(X_train_values,y_train)\n",
    "y_pred=pipe_tree.predict(X_test)\n",
    "print('Test Accuracy: %.3f' % pipe_tree.score(X_test, y_test))"
   ]
  },
  {
   "cell_type": "code",
   "execution_count": 20,
   "id": "5a02cc30",
   "metadata": {},
   "outputs": [
    {
     "name": "stderr",
     "output_type": "stream",
     "text": [
      "D:\\sofaware\\tool\\Anaconda\\Lib\\site-packages\\sklearn\\model_selection\\_validation.py:425: FitFailedWarning: \n",
      "40 fits failed out of a total of 600.\n",
      "The score on these train-test partitions for these parameters will be set to nan.\n",
      "If these failures are not expected, you can try to debug them by setting error_score='raise'.\n",
      "\n",
      "Below are more details about the failures:\n",
      "--------------------------------------------------------------------------------\n",
      "40 fits failed with the following error:\n",
      "Traceback (most recent call last):\n",
      "  File \"D:\\sofaware\\tool\\Anaconda\\Lib\\site-packages\\sklearn\\model_selection\\_validation.py\", line 732, in _fit_and_score\n",
      "    estimator.fit(X_train, y_train, **fit_params)\n",
      "  File \"D:\\sofaware\\tool\\Anaconda\\Lib\\site-packages\\sklearn\\base.py\", line 1151, in wrapper\n",
      "    return fit_method(estimator, *args, **kwargs)\n",
      "           ^^^^^^^^^^^^^^^^^^^^^^^^^^^^^^^^^^^^^^\n",
      "  File \"D:\\sofaware\\tool\\Anaconda\\Lib\\site-packages\\sklearn\\pipeline.py\", line 420, in fit\n",
      "    self._final_estimator.fit(Xt, y, **fit_params_last_step)\n",
      "  File \"D:\\sofaware\\tool\\Anaconda\\Lib\\site-packages\\sklearn\\base.py\", line 1151, in wrapper\n",
      "    return fit_method(estimator, *args, **kwargs)\n",
      "           ^^^^^^^^^^^^^^^^^^^^^^^^^^^^^^^^^^^^^^\n",
      "  File \"D:\\sofaware\\tool\\Anaconda\\Lib\\site-packages\\sklearn\\linear_model\\_logistic.py\", line 1218, in fit\n",
      "    multi_class = _check_multi_class(self.multi_class, solver, len(self.classes_))\n",
      "                  ^^^^^^^^^^^^^^^^^^^^^^^^^^^^^^^^^^^^^^^^^^^^^^^^^^^^^^^^^^^^^^^^\n",
      "  File \"D:\\sofaware\\tool\\Anaconda\\Lib\\site-packages\\sklearn\\linear_model\\_logistic.py\", line 92, in _check_multi_class\n",
      "    raise ValueError(\"Solver %s does not support a multinomial backend.\" % solver)\n",
      "ValueError: Solver liblinear does not support a multinomial backend.\n",
      "\n",
      "  warnings.warn(some_fits_failed_message, FitFailedWarning)\n",
      "D:\\sofaware\\tool\\Anaconda\\Lib\\site-packages\\sklearn\\model_selection\\_search.py:976: UserWarning: One or more of the test scores are non-finite: [0.93332    0.93332    0.93331333 0.93332    0.93332    0.93330667\n",
      " 0.93330667        nan 0.93330667 0.93330667 0.93332    0.93332\n",
      " 0.93331333 0.93332    0.93332    0.93327333 0.93327333 0.93328667\n",
      " 0.93327333 0.93327333 0.93327333 0.93327333        nan 0.93327333\n",
      " 0.93327333 0.93327333 0.93327333 0.93328667 0.93327333 0.93327333\n",
      " 0.93325333 0.93325333 0.93326    0.93325333 0.93325333 0.93325333\n",
      " 0.93325333        nan 0.93325333 0.93325333 0.93325333 0.93325333\n",
      " 0.93326    0.93325333 0.93325333 0.93325333 0.93325333 0.93325333\n",
      " 0.93325333 0.93325333 0.93325333 0.93325333        nan 0.93325333\n",
      " 0.93325333 0.93325333 0.93325333 0.93325333 0.93325333 0.93325333\n",
      " 0.93325333 0.93325333 0.93325333 0.93325333 0.93325333 0.93325333\n",
      " 0.93325333        nan 0.93325333 0.93325333 0.93325333 0.93325333\n",
      " 0.93325333 0.93325333 0.93325333 0.93325333 0.93325333 0.93325333\n",
      " 0.93325333 0.93325333 0.93325333 0.93325333        nan 0.93325333\n",
      " 0.93325333 0.93325333 0.93325333 0.93325333 0.93325333 0.93325333\n",
      " 0.93325333 0.93325333 0.93325333 0.93325333 0.93325333 0.93325333\n",
      " 0.93325333        nan 0.93325333 0.93325333 0.93325333 0.93325333\n",
      " 0.93325333 0.93325333 0.93325333 0.93325333 0.93325333 0.93325333\n",
      " 0.93325333 0.93325333 0.93325333 0.93325333        nan 0.93325333\n",
      " 0.93325333 0.93325333 0.93325333 0.93325333 0.93325333 0.93325333]\n",
      "  warnings.warn(\n"
     ]
    },
    {
     "name": "stdout",
     "output_type": "stream",
     "text": [
      "0.9333200000000001\n",
      "{'logisticregression__C': 0.0001, 'logisticregression__multi_class': 'ovr', 'logisticregression__solver': 'newton-cg'}\n"
     ]
    },
    {
     "name": "stderr",
     "output_type": "stream",
     "text": [
      "D:\\sofaware\\tool\\Anaconda\\Lib\\site-packages\\scipy\\optimize\\_linesearch.py:306: LineSearchWarning: The line search algorithm did not converge\n",
      "  warn('The line search algorithm did not converge', LineSearchWarning)\n",
      "D:\\sofaware\\tool\\Anaconda\\Lib\\site-packages\\sklearn\\utils\\optimize.py:204: UserWarning: Line Search failed\n",
      "  warnings.warn(\"Line Search failed\")\n"
     ]
    }
   ],
   "source": [
    "#Use grid search for finding optimal hyperparameters for LR method\n",
    "pipe_LR=make_pipeline(StandardScaler(),\n",
    "                      PCA(n_components=4),\n",
    "                      LogisticRegression(multi_class='ovr',random_state=1))\n",
    "                       \n",
    "param_range = [0.0001, 0.001, 0.01, 0.1, 1.0, 10.0, 100.0, 1000.0]\n",
    "solver_range=[\"newton-cg\",\"lbfgs\",\"liblinear\",\"sag\",\"saga\"]\n",
    "class_range=[\"ovr\",\"multinomial\",\"auto\"]\n",
    "\n",
    "param_grid = [{'logisticregression__C': param_range, \n",
    "               'logisticregression__solver': solver_range,\n",
    "               'logisticregression__multi_class':class_range}]\n",
    "\n",
    "gs = GridSearchCV(estimator=pipe_LR, \n",
    "                  param_grid=param_grid, \n",
    "                  scoring='accuracy', \n",
    "                  refit=True,\n",
    "                  cv=5,\n",
    "                  n_jobs=-1)\n",
    "gs = gs.fit(X_train_values, y_train)\n",
    "print(gs.best_score_)\n",
    "print(gs.best_params_)"
   ]
  },
  {
   "cell_type": "code",
   "execution_count": 21,
   "id": "0c8df9bd",
   "metadata": {},
   "outputs": [
    {
     "name": "stdout",
     "output_type": "stream",
     "text": [
      "Test accuracy: 0.984\n"
     ]
    }
   ],
   "source": [
    "clf = gs.best_estimator_\n",
    "\n",
    "print('Test accuracy: %.3f' % clf.score(X_test, y_test))"
   ]
  },
  {
   "cell_type": "code",
   "execution_count": 10,
   "id": "9618de57",
   "metadata": {},
   "outputs": [
    {
     "name": "stdout",
     "output_type": "stream",
     "text": [
      "0.9361733333333333\n",
      "{'decisiontreeclassifier__criterion': 'entropy', 'decisiontreeclassifier__max_depth': 5}\n"
     ]
    }
   ],
   "source": [
    "#Use grid search for finding optimal hyperparameters for decision tree method\n",
    "pipe_tree=make_pipeline(StandardScaler(),\n",
    "                  PCA(n_components=4),\n",
    "                  DecisionTreeClassifier(random_state=1))\n",
    "\n",
    "depth_range=[3,4,5,6,7]\n",
    "\n",
    "param_grid=[{'decisiontreeclassifier__max_depth':depth_range,\n",
    "            'decisiontreeclassifier__criterion':['gini']},\n",
    "           {'decisiontreeclassifier__max_depth':depth_range,\n",
    "            'decisiontreeclassifier__criterion':['entropy']},\n",
    "           {'decisiontreeclassifier__max_depth':depth_range,\n",
    "            'decisiontreeclassifier__criterion':['log_loss']}]\n",
    "\n",
    "gs=GridSearchCV(estimator=pipe_tree,\n",
    "               param_grid=param_grid,\n",
    "               scoring='accuracy',\n",
    "               refit=True,\n",
    "               cv=5,\n",
    "               n_jobs=-1)\n",
    "gs = gs.fit(X_train_values, y_train)\n",
    "print(gs.best_score_)\n",
    "print(gs.best_params_)"
   ]
  },
  {
   "cell_type": "code",
   "execution_count": 11,
   "id": "bb4981b0",
   "metadata": {},
   "outputs": [
    {
     "name": "stdout",
     "output_type": "stream",
     "text": [
      "Test accuracy: 0.988\n"
     ]
    }
   ],
   "source": [
    "clf = gs.best_estimator_\n",
    "\n",
    "print('Test accuracy: %.3f' % clf.score(X_test, y_test))"
   ]
  },
  {
   "cell_type": "code",
   "execution_count": null,
   "id": "40d995aa",
   "metadata": {},
   "outputs": [],
   "source": [
    "#Use grid search for finding optimal hyperparameters for svm method\n",
    "#It takes long time for my computer so that I could not get the result\n",
    "pipe_svm=make_pipeline(StandardScaler(),\n",
    "                      PCA(n_components=4),\n",
    "                      SVC(random_state=1))\n",
    "                       \n",
    "param_range = [0.0001, 0.001, 0.01, 0.1, 1.0, 10.0, 100.0, 1000.0]\n",
    "\n",
    "param_grid = [{'svc__C': param_range, \n",
    "               'svc__kernel': ['linear']},\n",
    "              {'svc__C': param_range, \n",
    "               'svc__gamma': param_range, \n",
    "               'svc__kernel': ['rbf']}]\n",
    "\n",
    "gs = GridSearchCV(estimator=pipe_svm, \n",
    "                  param_grid=param_grid, \n",
    "                  scoring='accuracy', \n",
    "                  refit=True,\n",
    "                  cv=5,\n",
    "                  n_jobs=-1)\n",
    "gs = gs.fit(X_train_values, y_train)\n",
    "print(gs.best_score_)\n",
    "print(gs.best_params_)"
   ]
  },
  {
   "cell_type": "code",
   "execution_count": null,
   "id": "e544134e",
   "metadata": {},
   "outputs": [],
   "source": [
    "clf = gs.best_estimator_\n",
    "\n",
    "print('Test accuracy: %.3f' % clf.score(X_test, y_test))"
   ]
  }
 ],
 "metadata": {
  "kernelspec": {
   "display_name": "Python 3 (ipykernel)",
   "language": "python",
   "name": "python3"
  },
  "language_info": {
   "codemirror_mode": {
    "name": "ipython",
    "version": 3
   },
   "file_extension": ".py",
   "mimetype": "text/x-python",
   "name": "python",
   "nbconvert_exporter": "python",
   "pygments_lexer": "ipython3",
   "version": "3.11.4"
  }
 },
 "nbformat": 4,
 "nbformat_minor": 5
}
